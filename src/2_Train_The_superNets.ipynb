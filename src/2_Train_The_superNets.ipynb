{
 "cells": [
  {
   "cell_type": "markdown",
   "id": "63f47912-a78c-4cd0-99e2-25f6176d785f",
   "metadata": {},
   "source": [
    "# change the data information"
   ]
  },
  {
   "cell_type": "code",
   "execution_count": 2,
   "id": "82388cf6-3626-4c2a-b9a4-ebc893363ccc",
   "metadata": {},
   "outputs": [],
   "source": [
    "# go to file : lib/dataset/datasets/coco_custom.py\n",
    "# change following two information\n",
    "# it is usually not be changed\n",
    "# but the small data contain only the following four classes (from notebook 1_convert_the_data)\n",
    "\n",
    "class_name = ['car', 'truck', 'van', 'bus']\n",
    "\n",
    "_valid_ids = [1,2,3,4]"
   ]
  },
  {
   "cell_type": "markdown",
   "id": "b6f49ba3-7631-40b9-88c4-030647182151",
   "metadata": {},
   "source": [
    "# Make the search space File network_config.yaml"
   ]
  },
  {
   "cell_type": "code",
   "execution_count": 6,
   "id": "7e60314e-6d3d-4e24-afcd-8d8606031b62",
   "metadata": {},
   "outputs": [],
   "source": [
    "import torch.nn.functional as F\n",
    "import torch\n",
    "import torch.nn as nn\n",
    "import numpy as np\n",
    "from torch.autograd import Variable\n",
    "import random\n",
    "import copy\n",
    "import math\n",
    "from lib.model.networks.OneForAll_NAS import OneForAll_SuperNetNetwork,rep_model_convert\n",
    "import yaml\n",
    "device = torch.device(\"cuda\" if torch.cuda.is_available() else \"cpu\")"
   ]
  },
  {
   "cell_type": "code",
   "execution_count": 7,
   "id": "6ab1791c-0104-4a75-a07e-b2ddcde8eef9",
   "metadata": {},
   "outputs": [],
   "source": [
    "\n",
    "# The size of the search space can be determined by checking at the size of the largest network / inference time\n",
    "\n",
    "network_config = {\n",
    "    \"backbone\" : [\n",
    "        # block NAS_REP_ConvBNBlock  [ filternumer, stride, run_time_depth_index]\n",
    "        ['NAS_REP_ConvBNBlock', [96, 1, 0]],\n",
    "        ['NAS_REP_ConvBNBlock', [128, 2, 0]],\n",
    "        # block branch_block  [ filternumer, number of repetition blocks, run_time_depth_index]\n",
    "        ['branch_block',         [128, 2, 1]],\n",
    "        ['NAS_REP_ConvBNBlock', [256, 2, 0]],\n",
    "        ['branch_block', [256, 4, 1]],\n",
    "        ['NAS_REP_ConvBNBlock', [512, 2, 0]],\n",
    "        ['branch_block', [512, 4, 1]],\n",
    "        ['NAS_REP_ConvBNBlock', [1024, 2, 0]],\n",
    "        ['branch_block', [1024, 2, 1]],\n",
    "        ['NAS_REP_ConvBNBlock', [1024, 1, 0]]\n",
    "    ],\n",
    "    \"neck\" : [\n",
    "        [[1,2,1], [1,2,1], [1,2,1]],\n",
    "        [[1,2,1], [1,2,1]],\n",
    "        [[1,2,1]],\n",
    "        [1,2,1],\n",
    "        [1,4,1]\n",
    "    ],\n",
    "    \"head\" : {\n",
    "        'hm':  3,\n",
    "        'reg': 3,\n",
    "        'wh':  3,\n",
    "        'tracking': 3\n",
    "    }\n",
    "\n",
    "}\n",
    "\n",
    "\n",
    "class dotdict(dict):\n",
    "    \"\"\"dot.notation access to dictionary attributes\"\"\"\n",
    "    __getattr__ = dict.get\n",
    "    __setattr__ = dict.__setitem__\n",
    "    __delattr__ = dict.__delitem__\n",
    "\n",
    "\n",
    "opt = dotdict()\n",
    "\n",
    "opt.max_kernel_size     = 5\n",
    "opt.width_mult          = 0.2\n",
    "opt.pre_img             = True\n",
    "opt.combine_style       = \"sub_cat\"\n",
    "opt.verbose             = False\n",
    "opt.scaling_factor      = 0.5\n",
    "opt.skip_connection     = True\n",
    "num_cls                 = len(class_name)\n",
    "opt.heads               = {'hm': num_cls, 'reg': 2, 'wh': 2, 'tracking':2}\n",
    "\n",
    "\n",
    "op = OneForAll_SuperNetNetwork(network_config = network_config, opt=opt).to(device)  \n",
    "\n",
    "\n",
    "img_size        = 640\n",
    "\n",
    "x2 = torch.randn([1, 3, img_size, img_size]).to(device)  \n",
    "x1 = torch.randn([1, 3, img_size, img_size]).to(device)  \n",
    "\n",
    "\n",
    "op.eval()\n",
    "\n",
    "\n",
    "op_rep= rep_model_convert(op, do_copy=False)\n",
    "\n",
    "\n",
    "torch.onnx.export(op_rep,  # model being run\n",
    "                  (x1,x2) ,\n",
    "                  \"largest_to_delete.onnx\",\n",
    "                  export_params=True,  # store the trained parameter weights inside the model file\n",
    "                  # keep_initializers_as_inputs=True,\n",
    "                  # the ONNX version to export the model to\n",
    "                  opset_version=10,\n",
    "                  verbose=False,\n",
    "                  input_names=['input1','input2'],  # the model's input names\n",
    "                  output_names=['output'],  # the model's output names\n",
    "                  #dynamic_axes={\"input\": {0: \"batch\", 1:\"channel\",2: \"width\",3:\"height\"}}\n",
    "                 )   \n",
    "\n"
   ]
  },
  {
   "cell_type": "code",
   "execution_count": 8,
   "id": "a3cb4c08-4f6a-45f7-9ccb-bca23b60ce9c",
   "metadata": {},
   "outputs": [],
   "source": [
    "with open('network_config.yaml', 'w') as file:\n",
    "    yaml.dump(network_config, file, default_flow_style=False)"
   ]
  },
  {
   "cell_type": "markdown",
   "id": "826b04c2-e253-49d0-9639-e73fa878153a",
   "metadata": {},
   "source": [
    "# Train the SuperNets"
   ]
  },
  {
   "cell_type": "code",
   "execution_count": null,
   "id": "ada18e27-dc57-402c-8a8e-caf6867d0a1c",
   "metadata": {},
   "outputs": [],
   "source": [
    "python main.py tracking \\\n",
    "    --exp_id oneforalltest1 \\\n",
    "    --tracking \\\n",
    "    --dataset syntra \\\n",
    "    --flip 0.0 \\\n",
    "    --gpus 0 \\\n",
    "    --batch_size 6 \\\n",
    "    --lr 4e-4 \\\n",
    "    --same_aug \\\n",
    "    --num_workers 16 \\\n",
    "    --shift 0.05 \\\n",
    "    --scale 0.05 \\\n",
    "    --hm_disturb 0.05 \\\n",
    "    --lost_disturb 0.4 \\\n",
    "    --fp_disturb 0.1 \\\n",
    "    --arch oneforall \\\n",
    "    --num_epochs 100 \\\n",
    "    --data_fold_name notebook_data \\\n",
    "    --input_h  800 \\\n",
    "    --input_w  800 \\\n",
    "    --down_ratio 4 \\\n",
    "    --width_mult 0.2\n",
    "\n",
    "# exp_id you can give anyname \n",
    "# --tracking  the task name , if you want to do detection only , --cdet\n",
    "# batch_size\n",
    "# arch --> oneforall\n",
    "# num_epochs  training epoches\n",
    "# data_fold_name notebook_data\n",
    "# input_h \n",
    "\n"
   ]
  },
  {
   "cell_type": "markdown",
   "id": "ea98f2b6-5555-494c-97cd-eb2a064c31a1",
   "metadata": {},
   "source": [
    "## retrain the model from last break point"
   ]
  },
  {
   "cell_type": "code",
   "execution_count": null,
   "id": "aac5043f-4eb4-4974-8464-dee71f6fcfc2",
   "metadata": {},
   "outputs": [],
   "source": [
    "python main.py tracking \\\n",
    "    --exp_id oneforalltest \\\n",
    "    --tracking \\\n",
    "    --dataset syntra \\\n",
    "    --flip 0.0 \\\n",
    "    --gpus 0 \\\n",
    "    --batch_size 16 \\\n",
    "    --lr 4e-4 \\\n",
    "    --same_aug \\\n",
    "    --num_workers 16 \\\n",
    "    --shift 0.05 \\\n",
    "    --scale 0.05 \\\n",
    "    --hm_disturb 0.05 \\\n",
    "    --lost_disturb 0.4 \\\n",
    "    --fp_disturb 0.1 \\\n",
    "    --arch oneforall \\\n",
    "    --num_epochs 100 \\\n",
    "    --data_fold_name notebook_data \\\n",
    "    --input_h  800 \\\n",
    "    --input_w  800 \\\n",
    "    --down_ratio 4 \\\n",
    "    --load_model /pfs/data5/home/kit/tm/px6680/Conference/Syntra/exp/tracking/oneforalltest/model_last.pth \\"
   ]
  },
  {
   "cell_type": "markdown",
   "id": "6fe6434c-ab5d-42e2-b109-54e0aa7a4a00",
   "metadata": {},
   "source": [
    "Inference"
   ]
  },
  {
   "cell_type": "code",
   "execution_count": null,
   "id": "a8296c83-1b04-441a-924d-223d4d0df066",
   "metadata": {},
   "outputs": [],
   "source": [
    "python demo.py tracking \\\n",
    "    --load_model /pfs/data5/home/kit/tm/px6680/Conference/Syntra/exp/tracking/oneforalltest/model_last.pth \\\n",
    "    --arch oneforall \\\n",
    "    --dataset syntra \\\n",
    "    --data_fold_name notebook_data \\\n",
    "    --demo /pfs/data5/home/kit/tm/px6680/Conference/WACV/CenterTrack/imgs7 \\\n",
    "    --debug 4 \\\n",
    "    --track_thresh 0.2 \\"
   ]
  }
 ],
 "metadata": {
  "kernelspec": {
   "display_name": "wacv23",
   "language": "python",
   "name": "wacv23"
  },
  "language_info": {
   "codemirror_mode": {
    "name": "ipython",
    "version": 3
   },
   "file_extension": ".py",
   "mimetype": "text/x-python",
   "name": "python",
   "nbconvert_exporter": "python",
   "pygments_lexer": "ipython3",
   "version": "3.9.16"
  }
 },
 "nbformat": 4,
 "nbformat_minor": 5
}
